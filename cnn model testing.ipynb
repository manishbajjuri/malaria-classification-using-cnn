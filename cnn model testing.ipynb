{
 "cells": [
  {
   "cell_type": "code",
   "execution_count": 1,
   "metadata": {
    "scrolled": true
   },
   "outputs": [
    {
     "name": "stdout",
     "output_type": "stream",
     "text": [
      "WARNING:tensorflow:From F:\\anconda3\\lib\\site-packages\\tensorflow_core\\python\\ops\\init_ops.py:97: calling GlorotUniform.__init__ (from tensorflow.python.ops.init_ops) with dtype is deprecated and will be removed in a future version.\n",
      "Instructions for updating:\n",
      "Call initializer instance with the dtype argument instead of passing it to the constructor\n",
      "WARNING:tensorflow:From F:\\anconda3\\lib\\site-packages\\tensorflow_core\\python\\ops\\init_ops.py:97: calling Zeros.__init__ (from tensorflow.python.ops.init_ops) with dtype is deprecated and will be removed in a future version.\n",
      "Instructions for updating:\n",
      "Call initializer instance with the dtype argument instead of passing it to the constructor\n",
      "WARNING:tensorflow:From F:\\anconda3\\lib\\site-packages\\tensorflow_core\\python\\ops\\resource_variable_ops.py:1630: calling BaseResourceVariable.__init__ (from tensorflow.python.ops.resource_variable_ops) with constraint is deprecated and will be removed in a future version.\n",
      "Instructions for updating:\n",
      "If using Keras pass *_constraint arguments to layers.\n"
     ]
    }
   ],
   "source": [
    "import matplotlib.pyplot as plt\n",
    "import tensorflow as tf \n",
    "model= tf.keras.models.load_model('malaria.h5')\n",
    "from tensorflow.keras.utils import to_categorical\n",
    "import pandas as pd\n",
    "import cv2"
   ]
  },
  {
   "cell_type": "code",
   "execution_count": 5,
   "metadata": {
    "scrolled": true
   },
   "outputs": [],
   "source": [
    "test = pd.read_csv(\"test.csv\")\n",
    "train = pd.read_csv(\"train.csv\")\n",
    "X_test  = test.drop(['label'],axis=1).values\n",
    "y_test  = test['label'].values\n",
    "#X_train  = train.drop(['label'],axis=1).values\n",
    "y_train  = train['label']"
   ]
  },
  {
   "cell_type": "code",
   "execution_count": 6,
   "metadata": {
    "scrolled": true
   },
   "outputs": [
    {
     "name": "stdout",
     "output_type": "stream",
     "text": [
      "Y_train shape (600,)\n"
     ]
    }
   ],
   "source": [
    "#print(\"X_train shape\", X_test.shape)\n",
    "print(\"Y_train shape\", y_test.shape)"
   ]
  },
  {
   "cell_type": "code",
   "execution_count": 8,
   "metadata": {
    "scrolled": true
   },
   "outputs": [],
   "source": [
    "#X_train = X_train.reshape(train.shape[0],100,100,1).astype('float32')\n",
    "X_test = X_test.reshape(test.shape[0],100,100,1).astype('float32')"
   ]
  },
  {
   "cell_type": "code",
   "execution_count": 7,
   "metadata": {},
   "outputs": [
    {
     "data": {
      "text/plain": [
       "600"
      ]
     },
     "execution_count": 7,
     "metadata": {},
     "output_type": "execute_result"
    }
   ],
   "source": [
    "test.shape[0]"
   ]
  },
  {
   "cell_type": "code",
   "execution_count": 9,
   "metadata": {
    "scrolled": true
   },
   "outputs": [
    {
     "name": "stdout",
     "output_type": "stream",
     "text": [
      "Original class Uninfected\n",
      "Predicted is Uninfected\n"
     ]
    },
    {
     "data": {
      "image/png": "[encoded data removed]",
      "text/plain": [
       "<Figure size 432x288 with 1 Axes>"
      ]
     },
     "metadata": {
      "needs_background": "light"
     },
     "output_type": "display_data"
    }
   ],
   "source": [
    "index = 500\n",
    "import numpy as np\n",
    "print(\"Original class\",y_test[index])\n",
    "plt.imshow(X_test[index].reshape(100,100),cmap='gray')\n",
    "#print(\"Predicted\", model.predict([[X_test[index]]]))\n",
    "img=[[X_test[index]]]\n",
    "pre=model.predict_classes(img)\n",
    "if pre == 0:\n",
    "    print(\"Predicted is Parasitized/Infected \")\n",
    "else:\n",
    "    print(\"Predicted is Uninfected\")"
   ]
  },
  {
   "cell_type": "code",
   "execution_count": null,
   "metadata": {},
   "outputs": [],
   "source": [
    "\n"
   ]
  },
  {
   "cell_type": "code",
   "execution_count": 7,
   "metadata": {
    "scrolled": true
   },
   "outputs": [
    {
     "data": {
      "text/plain": [
       "'\\nfrom sklearn import preprocessing\\nlb = preprocessing.LabelBinarizer()\\ny_test = lb.fit_transform(y_test)\\ny_test = to_categorical(y_test)\\n'"
      ]
     },
     "execution_count": 7,
     "metadata": {},
     "output_type": "execute_result"
    }
   ],
   "source": [
    "'''\n",
    "from sklearn import preprocessing\n",
    "lb = preprocessing.LabelBinarizer()\n",
    "y_test = lb.fit_transform(y_test)\n",
    "y_test = to_categorical(y_test)\n",
    "'''"
   ]
  },
  {
   "cell_type": "markdown",
   "metadata": {},
   "source": [
    "# Testing data from out"
   ]
  },
  {
   "cell_type": "code",
   "execution_count": 10,
   "metadata": {},
   "outputs": [],
   "source": [
    "path=\"C:/Users/Manish/Desktop/implmentation/data/test/Parasitized/C101P62ThinF_IMG_20150918_151507_cell_50.png\"\n",
    "im= cv2.imread(path)\n",
    "im_gray = cv2.cvtColor(im, cv2.COLOR_BGR2GRAY)\n",
    "#im_gray = cv2.GaussianBlur(im_gray, (5, 5), 0)\n",
    "roi = cv2.resize(im_gray, (100, 100))\n",
    "data=[]\n",
    "rows,cols = roi.shape\n",
    "for i in range(rows):\n",
    "    for j in range(cols):\n",
    "        k = roi[i,j]       \n",
    "        data.append(k)\n",
    "#cv2.imshow('path', img) "
   ]
  },
  {
   "cell_type": "code",
   "execution_count": 11,
   "metadata": {},
   "outputs": [
    {
     "data": {
      "text/plain": [
       "<matplotlib.image.AxesImage at 0x2801fcc7e88>"
      ]
     },
     "execution_count": 11,
     "metadata": {},
     "output_type": "execute_result"
    },
    {
     "data": {
      "image/png": "[encoded data removed]",
      "text/plain": [
       "<Figure size 432x288 with 1 Axes>"
      ]
     },
     "metadata": {
      "needs_background": "light"
     },
     "output_type": "display_data"
    }
   ],
   "source": [
    "data=np.array(data)\n",
    "plt.imshow(data.reshape(100,100),cmap='gray')"
   ]
  },
  {
   "cell_type": "code",
   "execution_count": null,
   "metadata": {},
   "outputs": [],
   "source": []
  },
  {
   "cell_type": "code",
   "execution_count": 23,
   "metadata": {},
   "outputs": [
    {
     "name": "stdout",
     "output_type": "stream",
     "text": [
      "Given blood Cell is Uninfected\n"
     ]
    }
   ],
   "source": [
    "img=data.reshape(1,100,100,1).astype('float32')\n",
    "model.predict_classes(img)\n",
    "if pre == 0:\n",
    "    print(\"Given blood Cell is Parasitized/Infected \")\n",
    "else:\n",
    "    print(\"Given blood Cell is Uninfected\")"
   ]
  },
  {
   "cell_type": "code",
   "execution_count": null,
   "metadata": {},
   "outputs": [],
   "source": [
    " "
   ]
  },
  {
   "cell_type": "code",
   "execution_count": 28,
   "metadata": {},
   "outputs": [
    {
     "ename": "NameError",
     "evalue": "name 'request' is not defined",
     "output_type": "error",
     "traceback": [
      "\u001b[1;31m---------------------------------------------------------------------------\u001b[0m",
      "\u001b[1;31mNameError\u001b[0m                                 Traceback (most recent call last)",
      "\u001b[1;32m<ipython-input-28-75918d247125>\u001b[0m in \u001b[0;36m<module>\u001b[1;34m\u001b[0m\n\u001b[0;32m      1\u001b[0m \u001b[1;32mimport\u001b[0m \u001b[0mnumpy\u001b[0m\u001b[1;33m\u001b[0m\u001b[1;33m\u001b[0m\u001b[0m\n\u001b[0;32m      2\u001b[0m \u001b[1;33m\u001b[0m\u001b[0m\n\u001b[1;32m----> 3\u001b[1;33m \u001b[0mimg\u001b[0m \u001b[1;33m=\u001b[0m \u001b[0mcv2\u001b[0m\u001b[1;33m.\u001b[0m\u001b[0mimdecode\u001b[0m\u001b[1;33m(\u001b[0m\u001b[0mnumpy\u001b[0m\u001b[1;33m.\u001b[0m\u001b[0mfromstring\u001b[0m\u001b[1;33m(\u001b[0m\u001b[0mrequest\u001b[0m\u001b[1;33m.\u001b[0m\u001b[0mfiles\u001b[0m\u001b[1;33m[\u001b[0m\u001b[1;34m'file'\u001b[0m\u001b[1;33m]\u001b[0m\u001b[1;33m.\u001b[0m\u001b[0mread\u001b[0m\u001b[1;33m(\u001b[0m\u001b[1;33m)\u001b[0m\u001b[1;33m,\u001b[0m \u001b[0mnumpy\u001b[0m\u001b[1;33m.\u001b[0m\u001b[0muint8\u001b[0m\u001b[1;33m)\u001b[0m\u001b[1;33m,\u001b[0m \u001b[0mcv2\u001b[0m\u001b[1;33m.\u001b[0m\u001b[0mIMREAD_UNCHANGED\u001b[0m\u001b[1;33m)\u001b[0m\u001b[1;33m\u001b[0m\u001b[1;33m\u001b[0m\u001b[0m\n\u001b[0m",
      "\u001b[1;31mNameError\u001b[0m: name 'request' is not defined"
     ]
    }
   ],
   "source": [
    "import numpy\n",
    "\n",
    "img = cv2.imdecode(numpy.fromstring(request.files['file'].read(), numpy.uint8), cv2.IMREAD_UNCHANGED)"
   ]
  },
  {
   "cell_type": "code",
   "execution_count": 10,
   "metadata": {},
   "outputs": [],
   "source": [
    "image = cv2.imread(path)\n",
    "cv2.imshow(\"test\", image)\n",
    "cv2.waitKey(0)\n",
    "cv2.destroyAllWindows()"
   ]
  },
  {
   "cell_type": "code",
   "execution_count": 2,
   "metadata": {},
   "outputs": [],
   "source": []
  },
  {
   "cell_type": "code",
   "execution_count": 3,
   "metadata": {},
   "outputs": [
    {
     "name": "stdout",
     "output_type": "stream",
     "text": [
      "Help on package flask:\n",
      "\n",
      "NAME\n",
      "    flask\n",
      "\n",
      "DESCRIPTION\n",
      "    flask\n",
      "    ~~~~~\n",
      "    \n",
      "    A microframework based on Werkzeug.  It's extensively documented\n",
      "    and follows best practice patterns.\n",
      "    \n",
      "    :copyright: 2010 Pallets\n",
      "    :license: BSD-3-Clause\n",
      "\n",
      "PACKAGE CONTENTS\n",
      "    __main__\n",
      "    _compat\n",
      "    app\n",
      "    blueprints\n",
      "    cli\n",
      "    config\n",
      "    ctx\n",
      "    debughelpers\n",
      "    globals\n",
      "    helpers\n",
      "    json (package)\n",
      "    logging\n",
      "    sessions\n",
      "    signals\n",
      "    templating\n",
      "    testing\n",
      "    views\n",
      "    wrappers\n",
      "\n",
      "FUNCTIONS\n",
      "    escape(...)\n",
      "        escape(s) -> markup\n",
      "        \n",
      "        Convert the characters &, <, >, ', and \" in string s to HTML-safe\n",
      "        sequences.  Use this if you need to display text that might contain\n",
      "        such characters in HTML.  Marks return value as markup string.\n",
      "\n",
      "DATA\n",
      "    appcontext_popped = <flask.signals._FakeSignal object>\n",
      "    appcontext_pushed = <flask.signals._FakeSignal object>\n",
      "    appcontext_tearing_down = <flask.signals._FakeSignal object>\n",
      "    before_render_template = <flask.signals._FakeSignal object>\n",
      "    current_app = <LocalProxy unbound>\n",
      "    g = <LocalProxy unbound>\n",
      "    got_request_exception = <flask.signals._FakeSignal object>\n",
      "    json_available = <flask._compat._DeprecatedBool object>\n",
      "    message_flashed = <flask.signals._FakeSignal object>\n",
      "    request = <LocalProxy unbound>\n",
      "    request_finished = <flask.signals._FakeSignal object>\n",
      "    request_started = <flask.signals._FakeSignal object>\n",
      "    request_tearing_down = <flask.signals._FakeSignal object>\n",
      "    session = <LocalProxy unbound>\n",
      "    signals_available = False\n",
      "    template_rendered = <flask.signals._FakeSignal object>\n",
      "\n",
      "VERSION\n",
      "    1.1.2\n",
      "\n",
      "FILE\n",
      "    f:\\anconda3\\lib\\site-packages\\flask\\__init__.py\n",
      "\n",
      "\n"
     ]
    }
   ],
   "source": []
  },
  {
   "cell_type": "code",
   "execution_count": null,
   "metadata": {},
   "outputs": [],
   "source": []
  }
 ],
 "metadata": {
  "kernelspec": {
   "display_name": "Python 3",
   "language": "python",
   "name": "python3"
  },
  "language_info": {
   "codemirror_mode": {
    "name": "ipython",
    "version": 3
   },
   "file_extension": ".py",
   "mimetype": "text/x-python",
   "name": "python",
   "nbconvert_exporter": "python",
   "pygments_lexer": "ipython3",
   "version": "3.7.7"
  }
 },
 "nbformat": 4,
 "nbformat_minor": 4
}
